{
 "cells": [
  {
   "cell_type": "code",
   "execution_count": 1,
   "metadata": {},
   "outputs": [],
   "source": [
    "import awswrangler as wr\n",
    "\n",
    "import mlflow\n",
    "\n",
    "import pandas as pd\n",
    "import numpy as np\n",
    "import matplotlib.pyplot as plt\n",
    "import xgboost as xgb\n",
    "\n",
    "import mlflow\n",
    "from mlflow.tracking import MlflowClient\n",
    "\n",
    "from sklearn.metrics import accuracy_score, roc_auc_score"
   ]
  },
  {
   "cell_type": "code",
   "execution_count": 2,
   "metadata": {
    "ExecuteTime": {
     "end_time": "2024-06-06T12:33:18.162188Z",
     "start_time": "2024-06-06T12:33:18.155786Z"
    }
   },
   "outputs": [
    {
     "name": "stdout",
     "output_type": "stream",
     "text": [
      "env: AWS_ACCESS_KEY_ID=minio\n",
      "env: AWS_SECRET_ACCESS_KEY=minio123\n",
      "env: MLFLOW_S3_ENDPOINT_URL=http://localhost:9000\n",
      "env: AWS_ENDPOINT_URL_S3=http://localhost:9000\n"
     ]
    }
   ],
   "source": [
    "\n",
    "\n",
    "# Para que funciones, todos nuestros scripts debemos exportar las siguientes variables de entorno\n",
    "%env AWS_ACCESS_KEY_ID=minio   \n",
    "%env AWS_SECRET_ACCESS_KEY=minio123 \n",
    "%env MLFLOW_S3_ENDPOINT_URL=http://localhost:9000\n",
    "%env AWS_ENDPOINT_URL_S3=http://localhost:9000\n"
   ]
  },
  {
   "cell_type": "code",
   "execution_count": 3,
   "metadata": {
    "ExecuteTime": {
     "end_time": "2024-06-06T12:33:21.563179Z",
     "start_time": "2024-06-06T12:33:21.560951Z"
    }
   },
   "outputs": [],
   "source": [
    "mlflow_server = \"http://localhost:5000\"\n",
    "\n",
    "\n",
    "mlflow.set_tracking_uri(mlflow_server)"
   ]
  },
  {
   "cell_type": "code",
   "execution_count": 4,
   "metadata": {
    "ExecuteTime": {
     "end_time": "2024-06-06T12:33:22.668794Z",
     "start_time": "2024-06-06T12:33:22.215467Z"
    }
   },
   "outputs": [],
   "source": [
    "# Cargamos los datos para realizar nuestro estudio.\n",
    "# OBS, no vamos a cargar los datos de testing, nada de Data leakage por aquí\n",
    "df_train =  wr.s3.read_csv(\"s3://data/clean/df_train_clean.csv\")\n",
    "df_test =  wr.s3.read_csv(\"s3://data/clean/df_test_clean.csv\")\n",
    "\n",
    "X_train = df_train.drop(['target'],axis=1)\n",
    "y_train = df_train[['target']]\n",
    "\n",
    "X_test= df_test.drop(['target'],axis=1)\n",
    "y_test = df_test[['target']]"
   ]
  },
  {
   "cell_type": "code",
   "execution_count": 5,
   "metadata": {},
   "outputs": [
    {
     "data": {
      "text/html": [
       "<div>\n",
       "<style scoped>\n",
       "    .dataframe tbody tr th:only-of-type {\n",
       "        vertical-align: middle;\n",
       "    }\n",
       "\n",
       "    .dataframe tbody tr th {\n",
       "        vertical-align: top;\n",
       "    }\n",
       "\n",
       "    .dataframe thead th {\n",
       "        text-align: right;\n",
       "    }\n",
       "</style>\n",
       "<table border=\"1\" class=\"dataframe\">\n",
       "  <thead>\n",
       "    <tr style=\"text-align: right;\">\n",
       "      <th></th>\n",
       "      <th>Age</th>\n",
       "      <th>Class</th>\n",
       "      <th>Flight Distance</th>\n",
       "      <th>Inflight wifi service</th>\n",
       "      <th>Departure/Arrival time convenient</th>\n",
       "      <th>Ease of Online booking</th>\n",
       "      <th>Gate location</th>\n",
       "      <th>Food and drink</th>\n",
       "      <th>Online boarding</th>\n",
       "      <th>Seat comfort</th>\n",
       "      <th>...</th>\n",
       "      <th>Departure Delay in Minutes</th>\n",
       "      <th>Arrival Delay in Minutes</th>\n",
       "      <th>target</th>\n",
       "      <th>Gender_Male</th>\n",
       "      <th>Customer Type_disloyal Customer</th>\n",
       "      <th>Type of Travel_Personal Travel</th>\n",
       "      <th>Inflight wifi service_rta0</th>\n",
       "      <th>Departure/Arrival time convenient_rta0</th>\n",
       "      <th>Ease of Online booking_rta0</th>\n",
       "      <th>Online boarding_rta0</th>\n",
       "    </tr>\n",
       "  </thead>\n",
       "  <tbody>\n",
       "    <tr>\n",
       "      <th>0</th>\n",
       "      <td>64</td>\n",
       "      <td>3</td>\n",
       "      <td>965</td>\n",
       "      <td>3</td>\n",
       "      <td>5</td>\n",
       "      <td>3</td>\n",
       "      <td>3</td>\n",
       "      <td>5</td>\n",
       "      <td>5</td>\n",
       "      <td>5</td>\n",
       "      <td>...</td>\n",
       "      <td>11</td>\n",
       "      <td>4.0</td>\n",
       "      <td>0</td>\n",
       "      <td>0</td>\n",
       "      <td>0</td>\n",
       "      <td>1</td>\n",
       "      <td>0</td>\n",
       "      <td>0</td>\n",
       "      <td>0</td>\n",
       "      <td>0</td>\n",
       "    </tr>\n",
       "    <tr>\n",
       "      <th>1</th>\n",
       "      <td>26</td>\n",
       "      <td>3</td>\n",
       "      <td>592</td>\n",
       "      <td>2</td>\n",
       "      <td>1</td>\n",
       "      <td>1</td>\n",
       "      <td>2</td>\n",
       "      <td>3</td>\n",
       "      <td>1</td>\n",
       "      <td>3</td>\n",
       "      <td>...</td>\n",
       "      <td>77</td>\n",
       "      <td>78.0</td>\n",
       "      <td>0</td>\n",
       "      <td>1</td>\n",
       "      <td>1</td>\n",
       "      <td>0</td>\n",
       "      <td>0</td>\n",
       "      <td>0</td>\n",
       "      <td>0</td>\n",
       "      <td>0</td>\n",
       "    </tr>\n",
       "    <tr>\n",
       "      <th>2</th>\n",
       "      <td>8</td>\n",
       "      <td>0</td>\n",
       "      <td>993</td>\n",
       "      <td>3</td>\n",
       "      <td>4</td>\n",
       "      <td>3</td>\n",
       "      <td>1</td>\n",
       "      <td>4</td>\n",
       "      <td>3</td>\n",
       "      <td>4</td>\n",
       "      <td>...</td>\n",
       "      <td>0</td>\n",
       "      <td>0.0</td>\n",
       "      <td>0</td>\n",
       "      <td>0</td>\n",
       "      <td>0</td>\n",
       "      <td>1</td>\n",
       "      <td>0</td>\n",
       "      <td>0</td>\n",
       "      <td>0</td>\n",
       "      <td>0</td>\n",
       "    </tr>\n",
       "    <tr>\n",
       "      <th>3</th>\n",
       "      <td>41</td>\n",
       "      <td>3</td>\n",
       "      <td>2223</td>\n",
       "      <td>4</td>\n",
       "      <td>4</td>\n",
       "      <td>4</td>\n",
       "      <td>4</td>\n",
       "      <td>1</td>\n",
       "      <td>2</td>\n",
       "      <td>4</td>\n",
       "      <td>...</td>\n",
       "      <td>9</td>\n",
       "      <td>4.0</td>\n",
       "      <td>1</td>\n",
       "      <td>1</td>\n",
       "      <td>0</td>\n",
       "      <td>0</td>\n",
       "      <td>0</td>\n",
       "      <td>0</td>\n",
       "      <td>0</td>\n",
       "      <td>0</td>\n",
       "    </tr>\n",
       "    <tr>\n",
       "      <th>4</th>\n",
       "      <td>19</td>\n",
       "      <td>0</td>\n",
       "      <td>1235</td>\n",
       "      <td>4</td>\n",
       "      <td>4</td>\n",
       "      <td>4</td>\n",
       "      <td>4</td>\n",
       "      <td>3</td>\n",
       "      <td>4</td>\n",
       "      <td>3</td>\n",
       "      <td>...</td>\n",
       "      <td>0</td>\n",
       "      <td>0.0</td>\n",
       "      <td>0</td>\n",
       "      <td>0</td>\n",
       "      <td>1</td>\n",
       "      <td>0</td>\n",
       "      <td>0</td>\n",
       "      <td>0</td>\n",
       "      <td>0</td>\n",
       "      <td>0</td>\n",
       "    </tr>\n",
       "  </tbody>\n",
       "</table>\n",
       "<p>5 rows × 27 columns</p>\n",
       "</div>"
      ],
      "text/plain": [
       "   Age  Class  Flight Distance  Inflight wifi service  \\\n",
       "0   64      3              965                      3   \n",
       "1   26      3              592                      2   \n",
       "2    8      0              993                      3   \n",
       "3   41      3             2223                      4   \n",
       "4   19      0             1235                      4   \n",
       "\n",
       "   Departure/Arrival time convenient  Ease of Online booking  Gate location  \\\n",
       "0                                  5                       3              3   \n",
       "1                                  1                       1              2   \n",
       "2                                  4                       3              1   \n",
       "3                                  4                       4              4   \n",
       "4                                  4                       4              4   \n",
       "\n",
       "   Food and drink  Online boarding  Seat comfort  ...  \\\n",
       "0               5                5             5  ...   \n",
       "1               3                1             3  ...   \n",
       "2               4                3             4  ...   \n",
       "3               1                2             4  ...   \n",
       "4               3                4             3  ...   \n",
       "\n",
       "   Departure Delay in Minutes  Arrival Delay in Minutes  target  Gender_Male  \\\n",
       "0                          11                       4.0       0            0   \n",
       "1                          77                      78.0       0            1   \n",
       "2                           0                       0.0       0            0   \n",
       "3                           9                       4.0       1            1   \n",
       "4                           0                       0.0       0            0   \n",
       "\n",
       "   Customer Type_disloyal Customer  Type of Travel_Personal Travel  \\\n",
       "0                                0                               1   \n",
       "1                                1                               0   \n",
       "2                                0                               1   \n",
       "3                                0                               0   \n",
       "4                                1                               0   \n",
       "\n",
       "   Inflight wifi service_rta0  Departure/Arrival time convenient_rta0  \\\n",
       "0                           0                                       0   \n",
       "1                           0                                       0   \n",
       "2                           0                                       0   \n",
       "3                           0                                       0   \n",
       "4                           0                                       0   \n",
       "\n",
       "   Ease of Online booking_rta0  Online boarding_rta0  \n",
       "0                            0                     0  \n",
       "1                            0                     0  \n",
       "2                            0                     0  \n",
       "3                            0                     0  \n",
       "4                            0                     0  \n",
       "\n",
       "[5 rows x 27 columns]"
      ]
     },
     "execution_count": 5,
     "metadata": {},
     "output_type": "execute_result"
    }
   ],
   "source": [
    "df_train.head()"
   ]
  },
  {
   "cell_type": "code",
   "execution_count": 6,
   "metadata": {},
   "outputs": [],
   "source": [
    "mlflow.set_tracking_uri('http://localhost:5000')\n",
    "\n",
    "experiment_name = \"customer_satisfaction_model_experiment\"\n",
    "\n",
    "if not mlflow.get_experiment_by_name(experiment_name):\n",
    "    mlflow.create_experiment(name=experiment_name)\n",
    "\n",
    "experiment = mlflow.get_experiment_by_name(experiment_name)"
   ]
  },
  {
   "cell_type": "code",
   "execution_count": 7,
   "metadata": {},
   "outputs": [
    {
     "data": {
      "text/plain": [
       "<Experiment: artifact_location='s3://mlflow/1', creation_time=1728675024281, experiment_id='1', last_update_time=1728675024281, lifecycle_stage='active', name='customer_satisfaction_model_experiment', tags={}>"
      ]
     },
     "execution_count": 7,
     "metadata": {},
     "output_type": "execute_result"
    }
   ],
   "source": [
    "experiment"
   ]
  },
  {
   "cell_type": "code",
   "execution_count": 8,
   "metadata": {},
   "outputs": [],
   "source": [
    "def get_or_create_experiment(experiment_name):\n",
    "    \"\"\"\n",
    "    Retrieve the ID of an existing MLflow experiment or create a new one if it doesn't exist.\n",
    "\n",
    "    This function checks if an experiment with the given name exists within MLflow.\n",
    "    If it does, the function returns its ID. If not, it creates a new experiment\n",
    "    with the provided name and returns its ID.\n",
    "\n",
    "    Parameters:\n",
    "    - experiment_name (str): Name of the MLflow experiment.\n",
    "\n",
    "    Returns:\n",
    "    - str: ID of the existing or newly created MLflow experiment.\n",
    "    \"\"\"\n",
    "\n",
    "    if experiment := mlflow.get_experiment_by_name(experiment_name):\n",
    "        return experiment.experiment_id\n",
    "    else:\n",
    "        return mlflow.create_experiment(experiment_name)"
   ]
  },
  {
   "cell_type": "code",
   "execution_count": 9,
   "metadata": {},
   "outputs": [
    {
     "name": "stdout",
     "output_type": "stream",
     "text": [
      "1\n"
     ]
    }
   ],
   "source": [
    "# Creemos el experimento\n",
    "experiment_id = get_or_create_experiment(\"customer_satisfaction_model_experiment\")\n",
    "print(experiment_id)\n",
    "\n",
    "run_name_parent = \"best_hyperparam\""
   ]
  },
  {
   "cell_type": "code",
   "execution_count": 10,
   "metadata": {},
   "outputs": [
    {
     "name": "stdout",
     "output_type": "stream",
     "text": [
      "<class 'pandas.core.frame.DataFrame'>\n",
      "RangeIndex: 103904 entries, 0 to 103903\n",
      "Data columns (total 26 columns):\n",
      " #   Column                                  Non-Null Count   Dtype  \n",
      "---  ------                                  --------------   -----  \n",
      " 0   Age                                     103904 non-null  int64  \n",
      " 1   Class                                   103904 non-null  int64  \n",
      " 2   Flight Distance                         103904 non-null  int64  \n",
      " 3   Inflight wifi service                   103904 non-null  int64  \n",
      " 4   Departure/Arrival time convenient       103904 non-null  int64  \n",
      " 5   Ease of Online booking                  103904 non-null  int64  \n",
      " 6   Gate location                           103904 non-null  int64  \n",
      " 7   Food and drink                          103904 non-null  int64  \n",
      " 8   Online boarding                         103904 non-null  int64  \n",
      " 9   Seat comfort                            103904 non-null  int64  \n",
      " 10  Inflight entertainment                  103904 non-null  int64  \n",
      " 11  On-board service                        103904 non-null  int64  \n",
      " 12  Leg room service                        103904 non-null  int64  \n",
      " 13  Baggage handling                        103904 non-null  int64  \n",
      " 14  Checkin service                         103904 non-null  int64  \n",
      " 15  Inflight service                        103904 non-null  int64  \n",
      " 16  Cleanliness                             103904 non-null  int64  \n",
      " 17  Departure Delay in Minutes              103904 non-null  int64  \n",
      " 18  Arrival Delay in Minutes                103904 non-null  float64\n",
      " 19  Gender_Male                             103904 non-null  int64  \n",
      " 20  Customer Type_disloyal Customer         103904 non-null  int64  \n",
      " 21  Type of Travel_Personal Travel          103904 non-null  int64  \n",
      " 22  Inflight wifi service_rta0              103904 non-null  int64  \n",
      " 23  Departure/Arrival time convenient_rta0  103904 non-null  int64  \n",
      " 24  Ease of Online booking_rta0             103904 non-null  int64  \n",
      " 25  Online boarding_rta0                    103904 non-null  int64  \n",
      "dtypes: float64(1), int64(25)\n",
      "memory usage: 20.6 MB\n",
      "None\n",
      "ROC AUC TRAIN: 0.9954826658178838\n",
      "ROC AUC TEST: 0.9934722543773338\n",
      "ACCURACY: 0.9593470896211888\n"
     ]
    },
    {
     "name": "stderr",
     "output_type": "stream",
     "text": [
      "2024/10/11 16:31:04 WARNING mlflow.models.model: Model logged without a signature and input example. Please set `input_example` parameter when logging the model to auto infer the model signature.\n",
      "Successfully registered model 'customer_satisfaction_model_dev'.\n",
      "2024/10/11 16:31:05 INFO mlflow.store.model_registry.abstract_store: Waiting up to 300 seconds for model version to finish creation. Model name: customer_satisfaction_model_dev, version 1\n",
      "Created version '1' of model 'customer_satisfaction_model_dev'.\n",
      "2024/10/11 16:31:05 INFO mlflow.tracking._tracking_service.client: 🏃 View run serious-lynx-371 at: http://localhost:5000/#/experiments/1/runs/e81e76f3d18b4bf2b050a04220c13374.\n",
      "2024/10/11 16:31:05 INFO mlflow.tracking._tracking_service.client: 🧪 View experiment at: http://localhost:5000/#/experiments/1.\n"
     ]
    },
    {
     "name": "stdout",
     "output_type": "stream",
     "text": [
      "Finalizado\n"
     ]
    },
    {
     "data": {
      "image/png": "[encoded data removed]",
      "text/plain": [
       "<Figure size 1000x1000 with 1 Axes>"
      ]
     },
     "metadata": {},
     "output_type": "display_data"
    }
   ],
   "source": [
    "\n",
    "\n",
    "best_xgb_grid = xgb.XGBClassifier(**{'reg_alpha': 0.0,\n",
    " 'n_estimators': 6,\n",
    " 'max_depth': 9,\n",
    " 'learning_rate': 0.6000000000000002,\n",
    " 'colsample_bytree': 1.0})\n",
    "\n",
    "print(X_train.info())\n",
    "best_xgb_grid.fit(X_train, y_train)\n",
    "\n",
    "artifact_path='xgb_model'\n",
    "model_uri = \"\"\n",
    "model_version = 1\n",
    "\n",
    "with mlflow.start_run(experiment_id = experiment.experiment_id):\n",
    "    # Se registran los mejores hiperparámetros\n",
    "    mlflow.log_params(best_xgb_grid.get_params())\n",
    "    \n",
    "    # Se obtiene las predicciones del dataset de evaluación\n",
    "    y_pred = best_xgb_grid.predict(X_test)\n",
    "    # y_test_inversed = scaler_y.inverse_transform(y_test)\n",
    "    # y_pred_inversed = scaler_y.inverse_transform(y_pred.reshape(-1, 1))\n",
    "    \n",
    "    # Se calculan las métricas\n",
    "    auc_score_train = roc_auc_score(y_train,best_xgb_grid.predict_proba(X_train)[:, 1])\n",
    "    print(f'ROC AUC TRAIN: {auc_score_train}')\n",
    "    auc_score = roc_auc_score(y_test, best_xgb_grid.predict_proba(X_test)[:, 1])\n",
    "    print(f'ROC AUC TEST: {auc_score}')\n",
    "    accuracy = accuracy_score(y_test, best_xgb_grid.predict(X_test))\n",
    "    print(f'ACCURACY: {accuracy}')\n",
    "    \n",
    "    # Y las enviamos a MLFlow\n",
    "    metrics ={\n",
    "        'ROC': auc_score,\n",
    "        'Accuracy': accuracy\n",
    "        }\n",
    "    \n",
    "    mlflow.log_metrics(metrics)\n",
    "    # Obtenemos la importancia de características\n",
    "    feature_importances = best_xgb_grid.feature_importances_\n",
    "    feature_names = X_train.columns  # Excluir la columna objetivo\n",
    "\n",
    "    # Ordenamos los índices\n",
    "    sorted_idx = feature_importances.argsort()\n",
    "\n",
    "    plt.figure(figsize=(10, 10))\n",
    "    plt.barh(range(len(sorted_idx)), feature_importances[sorted_idx], align='center')\n",
    "    plt.yticks(range(len(sorted_idx)), [feature_names[i] for i in sorted_idx])\n",
    "    plt.xlabel('Feature Importance')\n",
    "\n",
    "    # Guardar el gráfico en un archivo temporal\n",
    "    plot_filename = 'feature_importances.png'\n",
    "    plt.savefig(plot_filename)\n",
    "\n",
    "    # Registrar el gráfico en MLflow\n",
    "    mlflow.log_figure(plt.gcf(), artifact_file=\"feature_importances.png\")\n",
    "\n",
    "\n",
    "    # Registramos el modelo y los datos de entrenamiento\n",
    "    mlflow.sklearn.log_model(\n",
    "            sk_model=best_xgb_grid,\n",
    "            artifact_path=artifact_path,\n",
    "            serialization_format='cloudpickle',\n",
    "            registered_model_name=\"customer_satisfaction_model_dev\",\n",
    "            metadata={\"model_data_version\": model_version}\n",
    "            )\n",
    "\n",
    "   \n",
    "    # Obtenemos la ubicación del modelo guardado en MLFlow\n",
    "    model_uri = mlflow.get_artifact_uri(artifact_path)\n",
    "\n",
    "\n",
    "print('Finalizado')"
   ]
  },
  {
   "cell_type": "code",
   "execution_count": 11,
   "metadata": {},
   "outputs": [
    {
     "name": "stderr",
     "output_type": "stream",
     "text": [
      "2024/10/11 16:31:36 INFO mlflow.store.model_registry.abstract_store: Waiting up to 300 seconds for model version to finish creation. Model name: customer_satisfaction_model_prod, version 1\n"
     ]
    }
   ],
   "source": [
    "\n",
    "client = MlflowClient()\n",
    "name = \"customer_satisfaction_model_prod\"\n",
    "desc = \"Predict customer satisfaction\"\n",
    "\n",
    "# Creamos el modelo productivo\n",
    "# Chequear si el modelo ya está registrado\n",
    "registered_models = client.search_registered_models(f\"name='{name}'\")\n",
    "\n",
    "if not registered_models:\n",
    "    client.create_registered_model(name=name, description=desc)\n",
    "\n",
    "\n",
    "\n",
    "# Guardamos como tag los hiper-parametros en la version del modelo\n",
    "tags = best_xgb_grid.get_params()\n",
    "tags[\"model\"] = type(best_xgb_grid).__name__\n",
    "tags[\"ROC\"] = auc_score\n",
    "tags[\"Accuracy\"] = accuracy\n",
    "\n",
    "# Guardamos la version del modelo\n",
    "result = client.create_model_version(\n",
    "    name=name,\n",
    "    source=model_uri,\n",
    "    run_id=model_uri.split(\"/\")[-3],\n",
    "    tags=tags\n",
    ")\n",
    "\n",
    "# Y creamos como la version con el alias de prod para poder levantarlo en nuestro\n",
    "# proceso de servicio del modelo on-line.\n",
    "client.set_registered_model_alias(name, \"prod\", result.version)"
   ]
  },
  {
   "cell_type": "code",
   "execution_count": 12,
   "metadata": {},
   "outputs": [
    {
     "name": "stderr",
     "output_type": "stream",
     "text": [
      "c:\\Users\\aestu\\anaconda3\\envs\\ADM2\\lib\\site-packages\\tqdm\\auto.py:21: TqdmWarning: IProgress not found. Please update jupyter and ipywidgets. See https://ipywidgets.readthedocs.io/en/stable/user_install.html\n",
      "  from .autonotebook import tqdm as notebook_tqdm\n",
      "Downloading artifacts: 100%|██████████| 5/5 [00:00<00:00, 1849.34it/s]\n"
     ]
    }
   ],
   "source": [
    "loaded = mlflow.sklearn.load_model(\"models:/customer_satisfaction_model_prod/1\" )"
   ]
  },
  {
   "cell_type": "code",
   "execution_count": 13,
   "metadata": {},
   "outputs": [
    {
     "data": {
      "text/plain": [
       "array([0])"
      ]
     },
     "execution_count": 13,
     "metadata": {},
     "output_type": "execute_result"
    }
   ],
   "source": [
    "test_data = df_test.head(1).drop(['target'],axis=1)\n",
    "loaded.predict(np.array(test_data).reshape([1, -1]))"
   ]
  },
  {
   "cell_type": "code",
   "execution_count": null,
   "metadata": {
    "collapsed": false,
    "jupyter": {
     "outputs_hidden": false
    }
   },
   "outputs": [],
   "source": []
  }
 ],
 "metadata": {
  "kernelspec": {
   "display_name": "ADM2",
   "language": "python",
   "name": "python3"
  },
  "language_info": {
   "codemirror_mode": {
    "name": "ipython",
    "version": 3
   },
   "file_extension": ".py",
   "mimetype": "text/x-python",
   "name": "python",
   "nbconvert_exporter": "python",
   "pygments_lexer": "ipython3",
   "version": "3.10.14"
  }
 },
 "nbformat": 4,
 "nbformat_minor": 4
}
